{
  "nbformat": 4,
  "nbformat_minor": 0,
  "metadata": {
    "colab": {
      "name": "DS4A.ipynb",
      "provenance": [],
      "collapsed_sections": [],
      "toc_visible": true,
      "include_colab_link": true
    },
    "kernelspec": {
      "name": "python3",
      "display_name": "Python 3"
    },
    "language_info": {
      "name": "python"
    }
  },
  "cells": [
    {
      "cell_type": "markdown",
      "metadata": {
        "id": "view-in-github",
        "colab_type": "text"
      },
      "source": [
        "<a href=\"https://colab.research.google.com/github/gokce-d/DS4A_Team37/blob/master/DS4A.ipynb\" target=\"_parent\"><img src=\"https://colab.research.google.com/assets/colab-badge.svg\" alt=\"Open In Colab\"/></a>"
      ]
    },
    {
      "cell_type": "code",
      "metadata": {
        "id": "pag-OdY1qCAI"
      },
      "source": [
        "# Plotting the energy index\n",
        "import numpy as np\n",
        "import pandas as pd\n",
        "import matplotlib \n",
        "import matplotlib.pyplot as plt\n",
        "import seaborn as sns"
      ],
      "execution_count": null,
      "outputs": []
    },
    {
      "cell_type": "markdown",
      "metadata": {
        "id": "0FfizlI_y2zL"
      },
      "source": [
        "# Energy Index Analysis"
      ]
    },
    {
      "cell_type": "code",
      "metadata": {
        "id": "EN1tKUt3eSWw"
      },
      "source": [
        ""
      ],
      "execution_count": null,
      "outputs": []
    },
    {
      "cell_type": "code",
      "metadata": {
        "id": "1GvS1Hz1rBEc"
      },
      "source": [
        "energy_url = \"https://raw.githubusercontent.com/gokce-d/DS4A_Team37/master/Energy_Index.csv\"\n",
        "energy_index = pd.read_csv(energy_url)"
      ],
      "execution_count": null,
      "outputs": []
    },
    {
      "cell_type": "code",
      "metadata": {
        "id": "5Jf8EKEMrigy",
        "colab": {
          "base_uri": "https://localhost:8080/",
          "height": 204
        },
        "outputId": "9606dcbb-0cc5-416f-b9d1-fa45d51bea19"
      },
      "source": [
        "energy_index.tail()"
      ],
      "execution_count": null,
      "outputs": [
        {
          "output_type": "execute_result",
          "data": {
            "text/html": [
              "<div>\n",
              "<style scoped>\n",
              "    .dataframe tbody tr th:only-of-type {\n",
              "        vertical-align: middle;\n",
              "    }\n",
              "\n",
              "    .dataframe tbody tr th {\n",
              "        vertical-align: top;\n",
              "    }\n",
              "\n",
              "    .dataframe thead th {\n",
              "        text-align: right;\n",
              "    }\n",
              "</style>\n",
              "<table border=\"1\" class=\"dataframe\">\n",
              "  <thead>\n",
              "    <tr style=\"text-align: right;\">\n",
              "      <th></th>\n",
              "      <th>Effective date</th>\n",
              "      <th>S&amp;P 500 Energy (Sector)</th>\n",
              "    </tr>\n",
              "  </thead>\n",
              "  <tbody>\n",
              "    <tr>\n",
              "      <th>2529</th>\n",
              "      <td>9/20/2021</td>\n",
              "      <td>358.00</td>\n",
              "    </tr>\n",
              "    <tr>\n",
              "      <th>2530</th>\n",
              "      <td>9/21/2021</td>\n",
              "      <td>359.34</td>\n",
              "    </tr>\n",
              "    <tr>\n",
              "      <th>2531</th>\n",
              "      <td>9/22/2021</td>\n",
              "      <td>370.71</td>\n",
              "    </tr>\n",
              "    <tr>\n",
              "      <th>2532</th>\n",
              "      <td>9/23/2021</td>\n",
              "      <td>383.35</td>\n",
              "    </tr>\n",
              "    <tr>\n",
              "      <th>2533</th>\n",
              "      <td>9/24/2021</td>\n",
              "      <td>386.57</td>\n",
              "    </tr>\n",
              "  </tbody>\n",
              "</table>\n",
              "</div>"
            ],
            "text/plain": [
              "     Effective date   S&P 500 Energy (Sector)\n",
              "2529       9/20/2021                   358.00\n",
              "2530       9/21/2021                   359.34\n",
              "2531       9/22/2021                   370.71\n",
              "2532       9/23/2021                   383.35\n",
              "2533       9/24/2021                   386.57"
            ]
          },
          "metadata": {},
          "execution_count": 29
        }
      ]
    },
    {
      "cell_type": "code",
      "metadata": {
        "id": "ks6mfRiWtit_"
      },
      "source": [
        "energy_index = energy_index.rename(columns={\"Effective date \": \"Date\", \"S&P 500 Energy (Sector)\": \"Energy_Index\"})"
      ],
      "execution_count": null,
      "outputs": []
    },
    {
      "cell_type": "code",
      "metadata": {
        "id": "WDQHMCQqvHwQ",
        "colab": {
          "base_uri": "https://localhost:8080/",
          "height": 204
        },
        "outputId": "93aa4a93-e626-434d-9832-f581f6681de1"
      },
      "source": [
        "energy_index.tail()"
      ],
      "execution_count": null,
      "outputs": [
        {
          "output_type": "execute_result",
          "data": {
            "text/html": [
              "<div>\n",
              "<style scoped>\n",
              "    .dataframe tbody tr th:only-of-type {\n",
              "        vertical-align: middle;\n",
              "    }\n",
              "\n",
              "    .dataframe tbody tr th {\n",
              "        vertical-align: top;\n",
              "    }\n",
              "\n",
              "    .dataframe thead th {\n",
              "        text-align: right;\n",
              "    }\n",
              "</style>\n",
              "<table border=\"1\" class=\"dataframe\">\n",
              "  <thead>\n",
              "    <tr style=\"text-align: right;\">\n",
              "      <th></th>\n",
              "      <th>Date</th>\n",
              "      <th>Energy_Index</th>\n",
              "    </tr>\n",
              "  </thead>\n",
              "  <tbody>\n",
              "    <tr>\n",
              "      <th>2529</th>\n",
              "      <td>9/20/2021</td>\n",
              "      <td>358.00</td>\n",
              "    </tr>\n",
              "    <tr>\n",
              "      <th>2530</th>\n",
              "      <td>9/21/2021</td>\n",
              "      <td>359.34</td>\n",
              "    </tr>\n",
              "    <tr>\n",
              "      <th>2531</th>\n",
              "      <td>9/22/2021</td>\n",
              "      <td>370.71</td>\n",
              "    </tr>\n",
              "    <tr>\n",
              "      <th>2532</th>\n",
              "      <td>9/23/2021</td>\n",
              "      <td>383.35</td>\n",
              "    </tr>\n",
              "    <tr>\n",
              "      <th>2533</th>\n",
              "      <td>9/24/2021</td>\n",
              "      <td>386.57</td>\n",
              "    </tr>\n",
              "  </tbody>\n",
              "</table>\n",
              "</div>"
            ],
            "text/plain": [
              "           Date  Energy_Index\n",
              "2529  9/20/2021        358.00\n",
              "2530  9/21/2021        359.34\n",
              "2531  9/22/2021        370.71\n",
              "2532  9/23/2021        383.35\n",
              "2533  9/24/2021        386.57"
            ]
          },
          "metadata": {},
          "execution_count": 31
        }
      ]
    },
    {
      "cell_type": "code",
      "metadata": {
        "id": "lZSoiNaqwIFj"
      },
      "source": [
        "energy_index[\"Date\"] = pd.to_datetime(energy_index['Date'])"
      ],
      "execution_count": null,
      "outputs": []
    },
    {
      "cell_type": "code",
      "metadata": {
        "id": "YuTGc1ZxwUt2"
      },
      "source": [
        "energy_index = energy_index.set_index(\"Date\") "
      ],
      "execution_count": null,
      "outputs": []
    },
    {
      "cell_type": "code",
      "metadata": {
        "colab": {
          "base_uri": "https://localhost:8080/",
          "height": 235
        },
        "id": "Th4RpYlrw1zg",
        "outputId": "826823dd-6d27-4fae-ff91-f457c36641f4"
      },
      "source": [
        "energy_index.tail()"
      ],
      "execution_count": null,
      "outputs": [
        {
          "output_type": "execute_result",
          "data": {
            "text/html": [
              "<div>\n",
              "<style scoped>\n",
              "    .dataframe tbody tr th:only-of-type {\n",
              "        vertical-align: middle;\n",
              "    }\n",
              "\n",
              "    .dataframe tbody tr th {\n",
              "        vertical-align: top;\n",
              "    }\n",
              "\n",
              "    .dataframe thead th {\n",
              "        text-align: right;\n",
              "    }\n",
              "</style>\n",
              "<table border=\"1\" class=\"dataframe\">\n",
              "  <thead>\n",
              "    <tr style=\"text-align: right;\">\n",
              "      <th></th>\n",
              "      <th>Energy_Index</th>\n",
              "    </tr>\n",
              "    <tr>\n",
              "      <th>Date</th>\n",
              "      <th></th>\n",
              "    </tr>\n",
              "  </thead>\n",
              "  <tbody>\n",
              "    <tr>\n",
              "      <th>2021-09-20</th>\n",
              "      <td>358.00</td>\n",
              "    </tr>\n",
              "    <tr>\n",
              "      <th>2021-09-21</th>\n",
              "      <td>359.34</td>\n",
              "    </tr>\n",
              "    <tr>\n",
              "      <th>2021-09-22</th>\n",
              "      <td>370.71</td>\n",
              "    </tr>\n",
              "    <tr>\n",
              "      <th>2021-09-23</th>\n",
              "      <td>383.35</td>\n",
              "    </tr>\n",
              "    <tr>\n",
              "      <th>2021-09-24</th>\n",
              "      <td>386.57</td>\n",
              "    </tr>\n",
              "  </tbody>\n",
              "</table>\n",
              "</div>"
            ],
            "text/plain": [
              "            Energy_Index\n",
              "Date                    \n",
              "2021-09-20        358.00\n",
              "2021-09-21        359.34\n",
              "2021-09-22        370.71\n",
              "2021-09-23        383.35\n",
              "2021-09-24        386.57"
            ]
          },
          "metadata": {},
          "execution_count": 34
        }
      ]
    },
    {
      "cell_type": "code",
      "metadata": {
        "colab": {
          "base_uri": "https://localhost:8080/",
          "height": 292
        },
        "id": "Rc36IjICwach",
        "outputId": "c4f48ec7-03cf-4f16-99bd-6160f6310457"
      },
      "source": [
        "sns.set(rc={'figure.figsize':(14, 4)})\n",
        "sns.set_theme(style=\"whitegrid\")\n",
        "energy_index['Energy_Index'].plot(linewidth=0.7, color = \"orange\", label=\"Energy\")\n",
        "plt.title(\"Energy Index\")\n",
        "plt.legend()\n",
        "plt.savefig('energy.jpg');"
      ],
      "execution_count": null,
      "outputs": [
        {
          "output_type": "display_data",
          "data": {
            "image/png": "[encoded data removed]",
            "text/plain": [
              "<Figure size 1008x288 with 1 Axes>"
            ]
          },
          "metadata": {}
        }
      ]
    },
    {
      "cell_type": "markdown",
      "metadata": {
        "id": "s_HTh2qiyCRW"
      },
      "source": [
        "We can see clearly that there is a sudden drop at the beginning of 2020. This is the time where the market went down when the pandemic started."
      ]
    },
    {
      "cell_type": "markdown",
      "metadata": {
        "id": "2s2y_OuGy9Qp"
      },
      "source": [
        "# Clean Energy Index Analysis"
      ]
    },
    {
      "cell_type": "code",
      "metadata": {
        "id": "JWFGVXavzAR4"
      },
      "source": [
        "clean_energy_url = \"https://raw.githubusercontent.com/gokce-d/DS4A_Team37/master/Clean_Energy_Index.csv\"\n",
        "clean_energy_index = pd.read_csv(clean_energy_url)"
      ],
      "execution_count": null,
      "outputs": []
    },
    {
      "cell_type": "code",
      "metadata": {
        "colab": {
          "base_uri": "https://localhost:8080/",
          "height": 235
        },
        "id": "5bKGw0tnzeGD",
        "outputId": "55adda86-2c94-49a5-881d-9b3e4a984e8e"
      },
      "source": [
        "clean_energy_index[\"Date\"] = pd.to_datetime(clean_energy_index['Date'])\n",
        "clean_energy_index = clean_energy_index.set_index(\"Date\") \n",
        "clean_energy_index.head()"
      ],
      "execution_count": null,
      "outputs": [
        {
          "output_type": "execute_result",
          "data": {
            "text/html": [
              "<div>\n",
              "<style scoped>\n",
              "    .dataframe tbody tr th:only-of-type {\n",
              "        vertical-align: middle;\n",
              "    }\n",
              "\n",
              "    .dataframe tbody tr th {\n",
              "        vertical-align: top;\n",
              "    }\n",
              "\n",
              "    .dataframe thead th {\n",
              "        text-align: right;\n",
              "    }\n",
              "</style>\n",
              "<table border=\"1\" class=\"dataframe\">\n",
              "  <thead>\n",
              "    <tr style=\"text-align: right;\">\n",
              "      <th></th>\n",
              "      <th>Clean_Energy</th>\n",
              "    </tr>\n",
              "    <tr>\n",
              "      <th>Date</th>\n",
              "      <th></th>\n",
              "    </tr>\n",
              "  </thead>\n",
              "  <tbody>\n",
              "    <tr>\n",
              "      <th>2011-08-31</th>\n",
              "      <td>842.65</td>\n",
              "    </tr>\n",
              "    <tr>\n",
              "      <th>2011-09-01</th>\n",
              "      <td>824.99</td>\n",
              "    </tr>\n",
              "    <tr>\n",
              "      <th>2011-09-02</th>\n",
              "      <td>791.99</td>\n",
              "    </tr>\n",
              "    <tr>\n",
              "      <th>2011-09-05</th>\n",
              "      <td>776.69</td>\n",
              "    </tr>\n",
              "    <tr>\n",
              "      <th>2011-09-06</th>\n",
              "      <td>755.55</td>\n",
              "    </tr>\n",
              "  </tbody>\n",
              "</table>\n",
              "</div>"
            ],
            "text/plain": [
              "            Clean_Energy\n",
              "Date                    \n",
              "2011-08-31        842.65\n",
              "2011-09-01        824.99\n",
              "2011-09-02        791.99\n",
              "2011-09-05        776.69\n",
              "2011-09-06        755.55"
            ]
          },
          "metadata": {},
          "execution_count": 37
        }
      ]
    },
    {
      "cell_type": "code",
      "metadata": {
        "colab": {
          "base_uri": "https://localhost:8080/",
          "height": 292
        },
        "id": "CFzJ-yVfzqr7",
        "outputId": "75fd74fe-ebf0-4651-a6ae-7507b65dac1b"
      },
      "source": [
        "sns.set(rc={'figure.figsize':(14, 4)})\n",
        "sns.set_theme(style=\"whitegrid\")\n",
        "clean_energy_index['Clean_Energy'].plot(linewidth=0.7, color=\"magenta\", label=\"Clean Energy\")\n",
        "plt.title(\"Clean Energy Index\")\n",
        "plt.legend()\n",
        "plt.savefig('clean.jpg');"
      ],
      "execution_count": null,
      "outputs": [
        {
          "output_type": "display_data",
          "data": {
            "image/png": "[encoded data removed]",
            "text/plain": [
              "<Figure size 1008x288 with 1 Axes>"
            ]
          },
          "metadata": {}
        }
      ]
    },
    {
      "cell_type": "markdown",
      "metadata": {
        "id": "88pgLqou09qh"
      },
      "source": [
        "Interestingly after covid the clean energy index increased after a sudden drop. On the other hand, the energy index stayed at the lower levels."
      ]
    },
    {
      "cell_type": "code",
      "metadata": {
        "colab": {
          "base_uri": "https://localhost:8080/",
          "height": 292
        },
        "id": "tmVGqWcp08CJ",
        "outputId": "5f7d5e5a-c838-4d48-f676-fdfe5c009ef7"
      },
      "source": [
        "sns.set(rc={'figure.figsize':(14, 4)})\n",
        "sns.set_theme(style=\"whitegrid\")\n",
        "energy_index['Energy_Index'].plot(linewidth=0.7, color=\"orange\",label=\"Energy\")\n",
        "clean_energy_index['Clean_Energy'].plot(linewidth=0.7, color=\"magenta\",label=\"Clean Energy\")\n",
        "plt.title(\"Clean Energy Index vs Energy Index\")\n",
        "plt.legend()\n",
        "plt.savefig('energyVSclean_v2.jpg');"
      ],
      "execution_count": null,
      "outputs": [
        {
          "output_type": "display_data",
          "data": {
            "image/png": "[encoded data removed]",
            "text/plain": [
              "<Figure size 1008x288 with 1 Axes>"
            ]
          },
          "metadata": {}
        }
      ]
    },
    {
      "cell_type": "markdown",
      "metadata": {
        "id": "QV2pm10H3voA"
      },
      "source": [
        "I think the market just encountered a shock and stabilized around different mean values for both. For the clean one the mean is now higher but for the general energy now the mean is lower.\n",
        "\n",
        "I propose to fit ARIMA models between 2012, 2020 but assume the noise and seasonality is around the new trend/ mean."
      ]
    },
    {
      "cell_type": "code",
      "metadata": {
        "colab": {
          "base_uri": "https://localhost:8080/"
        },
        "id": "u_-OLUAY38Ac",
        "outputId": "dfec4ee0-7b8d-43a3-a20c-5d4251b8f835"
      },
      "source": [
        "print(\"Energy mean before COVID: \",round(energy_index.loc[\"2011-08-31\":\"2020-01-31\"][\"Energy_Index\"].mean(),2), \"Clean Energy mean before COVID: \", round(clean_energy_index.loc[\"2011-08-31\":\"2020-01-31\"][\"Clean_Energy\"].mean(),2))"
      ],
      "execution_count": null,
      "outputs": [
        {
          "output_type": "stream",
          "name": "stdout",
          "text": [
            "Energy mean before COVID:  534.67 Clean Energy mean before COVID:  601.14\n"
          ]
        }
      ]
    },
    {
      "cell_type": "code",
      "metadata": {
        "colab": {
          "base_uri": "https://localhost:8080/"
        },
        "id": "g1atiBFd4WDy",
        "outputId": "3fede472-a255-4b0a-c329-2107115a7afd"
      },
      "source": [
        "print(\"Energy mean after COVID: \",round(energy_index.loc[\"2021-05-31\":][\"Energy_Index\"].mean(),2), \"Clean Energy mean after COVID: \", round(clean_energy_index.loc[\"2021-05-31\":][\"Clean_Energy\"].mean(),2))"
      ],
      "execution_count": null,
      "outputs": [
        {
          "output_type": "stream",
          "name": "stdout",
          "text": [
            "Energy mean after COVID:  382.32 Clean Energy mean after COVID:  1454.3\n"
          ]
        }
      ]
    },
    {
      "cell_type": "code",
      "metadata": {
        "id": "NOjTAUNp6LOb"
      },
      "source": [
        "energy_before = pd.DataFrame(energy_index.loc[\"2011-08-31\":\"2020-01-31\"])\n",
        "energy_after = pd.DataFrame(energy_index.loc[\"2021-05-31\":])\n",
        "\n",
        "clean_energy_before = pd.DataFrame(clean_energy_index.loc[\"2011-08-31\":\"2020-01-31\"])\n",
        "clean_energy_after = pd.DataFrame(clean_energy_index.loc[\"2021-05-31\":])\n",
        "\n"
      ],
      "execution_count": null,
      "outputs": []
    },
    {
      "cell_type": "code",
      "metadata": {
        "id": "KSm0itTNKDMD"
      },
      "source": [
        "energy_before[\"energy_type\"]=\"regular\"\n",
        "energy_before[\"covid\"]=\"before\"\n",
        "\n",
        "clean_energy_before[\"energy_type\"]=\"clean\"\n",
        "clean_energy_before[\"covid\"]=\"before\"\n",
        "\n",
        "energy_after[\"energy_type\"]=\"regular\"\n",
        "energy_after[\"covid\"]=\"after\"\n",
        "\n",
        "clean_energy_after[\"energy_type\"]=\"clean\"\n",
        "clean_energy_after[\"covid\"]=\"after\""
      ],
      "execution_count": null,
      "outputs": []
    },
    {
      "cell_type": "code",
      "metadata": {
        "colab": {
          "base_uri": "https://localhost:8080/",
          "height": 235
        },
        "id": "uxwvRokR6Rvb",
        "outputId": "43ede77b-0c40-4afd-cd8a-3bb95560c326"
      },
      "source": [
        "clean_energy_before.head()"
      ],
      "execution_count": null,
      "outputs": [
        {
          "output_type": "execute_result",
          "data": {
            "text/html": [
              "<div>\n",
              "<style scoped>\n",
              "    .dataframe tbody tr th:only-of-type {\n",
              "        vertical-align: middle;\n",
              "    }\n",
              "\n",
              "    .dataframe tbody tr th {\n",
              "        vertical-align: top;\n",
              "    }\n",
              "\n",
              "    .dataframe thead th {\n",
              "        text-align: right;\n",
              "    }\n",
              "</style>\n",
              "<table border=\"1\" class=\"dataframe\">\n",
              "  <thead>\n",
              "    <tr style=\"text-align: right;\">\n",
              "      <th></th>\n",
              "      <th>Clean_Energy</th>\n",
              "      <th>energy_type</th>\n",
              "      <th>covid</th>\n",
              "    </tr>\n",
              "    <tr>\n",
              "      <th>Date</th>\n",
              "      <th></th>\n",
              "      <th></th>\n",
              "      <th></th>\n",
              "    </tr>\n",
              "  </thead>\n",
              "  <tbody>\n",
              "    <tr>\n",
              "      <th>2011-08-31</th>\n",
              "      <td>842.65</td>\n",
              "      <td>clean</td>\n",
              "      <td>before</td>\n",
              "    </tr>\n",
              "    <tr>\n",
              "      <th>2011-09-01</th>\n",
              "      <td>824.99</td>\n",
              "      <td>clean</td>\n",
              "      <td>before</td>\n",
              "    </tr>\n",
              "    <tr>\n",
              "      <th>2011-09-02</th>\n",
              "      <td>791.99</td>\n",
              "      <td>clean</td>\n",
              "      <td>before</td>\n",
              "    </tr>\n",
              "    <tr>\n",
              "      <th>2011-09-05</th>\n",
              "      <td>776.69</td>\n",
              "      <td>clean</td>\n",
              "      <td>before</td>\n",
              "    </tr>\n",
              "    <tr>\n",
              "      <th>2011-09-06</th>\n",
              "      <td>755.55</td>\n",
              "      <td>clean</td>\n",
              "      <td>before</td>\n",
              "    </tr>\n",
              "  </tbody>\n",
              "</table>\n",
              "</div>"
            ],
            "text/plain": [
              "            Clean_Energy energy_type   covid\n",
              "Date                                        \n",
              "2011-08-31        842.65       clean  before\n",
              "2011-09-01        824.99       clean  before\n",
              "2011-09-02        791.99       clean  before\n",
              "2011-09-05        776.69       clean  before\n",
              "2011-09-06        755.55       clean  before"
            ]
          },
          "metadata": {},
          "execution_count": 84
        }
      ]
    },
    {
      "cell_type": "code",
      "metadata": {
        "id": "e1Rtu3WSK2Mq"
      },
      "source": [
        "energy_after = energy_after.rename(columns={\"Energy_Index\": \"index\"})\n",
        "energy_before = energy_before.rename(columns={\"Energy_Index\": \"index\"})\n",
        "\n",
        "clean_energy_after = clean_energy_after.rename(columns={\"Clean_Energy\": \"index\"})\n",
        "clean_energy_before = clean_energy_before.rename(columns={\"Clean_Energy\": \"index\"})\n"
      ],
      "execution_count": null,
      "outputs": []
    },
    {
      "cell_type": "code",
      "metadata": {
        "id": "7nsijJd6LetJ"
      },
      "source": [
        "all_energy = pd.concat([energy_before, energy_after, clean_energy_before, clean_energy_after])"
      ],
      "execution_count": null,
      "outputs": []
    },
    {
      "cell_type": "code",
      "metadata": {
        "colab": {
          "base_uri": "https://localhost:8080/",
          "height": 235
        },
        "id": "vwDwEyuHMdwI",
        "outputId": "aa52c244-c4db-4848-9d91-5751d7b1a463"
      },
      "source": [
        "all_energy.head()"
      ],
      "execution_count": null,
      "outputs": [
        {
          "output_type": "execute_result",
          "data": {
            "text/html": [
              "<div>\n",
              "<style scoped>\n",
              "    .dataframe tbody tr th:only-of-type {\n",
              "        vertical-align: middle;\n",
              "    }\n",
              "\n",
              "    .dataframe tbody tr th {\n",
              "        vertical-align: top;\n",
              "    }\n",
              "\n",
              "    .dataframe thead th {\n",
              "        text-align: right;\n",
              "    }\n",
              "</style>\n",
              "<table border=\"1\" class=\"dataframe\">\n",
              "  <thead>\n",
              "    <tr style=\"text-align: right;\">\n",
              "      <th></th>\n",
              "      <th>index</th>\n",
              "      <th>energy_type</th>\n",
              "      <th>covid</th>\n",
              "    </tr>\n",
              "    <tr>\n",
              "      <th>Date</th>\n",
              "      <th></th>\n",
              "      <th></th>\n",
              "      <th></th>\n",
              "    </tr>\n",
              "  </thead>\n",
              "  <tbody>\n",
              "    <tr>\n",
              "      <th>2011-08-31</th>\n",
              "      <td>506.52</td>\n",
              "      <td>regular</td>\n",
              "      <td>before</td>\n",
              "    </tr>\n",
              "    <tr>\n",
              "      <th>2011-09-01</th>\n",
              "      <td>502.12</td>\n",
              "      <td>regular</td>\n",
              "      <td>before</td>\n",
              "    </tr>\n",
              "    <tr>\n",
              "      <th>2011-09-02</th>\n",
              "      <td>489.40</td>\n",
              "      <td>regular</td>\n",
              "      <td>before</td>\n",
              "    </tr>\n",
              "    <tr>\n",
              "      <th>2011-09-06</th>\n",
              "      <td>483.84</td>\n",
              "      <td>regular</td>\n",
              "      <td>before</td>\n",
              "    </tr>\n",
              "    <tr>\n",
              "      <th>2011-09-07</th>\n",
              "      <td>501.50</td>\n",
              "      <td>regular</td>\n",
              "      <td>before</td>\n",
              "    </tr>\n",
              "  </tbody>\n",
              "</table>\n",
              "</div>"
            ],
            "text/plain": [
              "             index energy_type   covid\n",
              "Date                                  \n",
              "2011-08-31  506.52     regular  before\n",
              "2011-09-01  502.12     regular  before\n",
              "2011-09-02  489.40     regular  before\n",
              "2011-09-06  483.84     regular  before\n",
              "2011-09-07  501.50     regular  before"
            ]
          },
          "metadata": {},
          "execution_count": 109
        }
      ]
    },
    {
      "cell_type": "code",
      "metadata": {
        "colab": {
          "base_uri": "https://localhost:8080/",
          "height": 394
        },
        "id": "Xn-aA5pAMhTs",
        "outputId": "9a14cc33-94e0-4bd4-bf87-b6e2cc2a9039"
      },
      "source": [
        "sns.set(rc={'figure.figsize':(9, 6)})\n",
        "sns.set_theme(style=\"whitegrid\")\n",
        "sns.boxplot(x=\"energy_type\", y= \"index\", data=all_energy, hue=\"covid\", palette={\"magenta\", \"orange\"})\n",
        "# plt.title(\"Boxplot of Index Before and After Covid\")\n",
        "plt.savefig(\"boxplot_all.jpg\");"
      ],
      "execution_count": null,
      "outputs": [
        {
          "output_type": "display_data",
          "data": {
            "image/png": "[encoded data removed]",
            "text/plain": [
              "<Figure size 648x432 with 1 Axes>"
            ]
          },
          "metadata": {}
        }
      ]
    },
    {
      "cell_type": "code",
      "metadata": {
        "colab": {
          "base_uri": "https://localhost:8080/",
          "height": 410
        },
        "id": "5abqjvHdO_kg",
        "outputId": "a6b15528-d189-4980-f071-149cf4245c92"
      },
      "source": [
        "sns.set_theme(style=\"whitegrid\")\n",
        "sns.boxplot(x=\"covid\", y= \"index\", data=all_energy[all_energy[\"energy_type\"]==\"regular\"],palette={\"magenta\", \"orange\"})\n",
        "plt.title(\"Boxplot of Energy Index Before and After Covid\")\n",
        "plt.savefig(\"boxplot_regular.jpg\");"
      ],
      "execution_count": null,
      "outputs": [
        {
          "output_type": "display_data",
          "data": {
            "image/png": "[encoded data removed]",
            "text/plain": [
              "<Figure size 648x432 with 1 Axes>"
            ]
          },
          "metadata": {}
        }
      ]
    },
    {
      "cell_type": "code",
      "metadata": {
        "colab": {
          "base_uri": "https://localhost:8080/",
          "height": 410
        },
        "id": "AHYEzKnHPaL_",
        "outputId": "98274238-2965-4e00-ddc6-865a4ae2a3cc"
      },
      "source": [
        "\n",
        "sns.set_theme(style=\"whitegrid\")\n",
        "sns.boxplot(x=\"covid\", y= \"index\", data=all_energy[all_energy[\"energy_type\"]==\"clean\"],palette={\"magenta\", \"orange\"})\n",
        "plt.title(\"Boxplot of Energy Index Before and After Covid\")\n",
        "plt.savefig(\"boxplot_clean.jpg\");"
      ],
      "execution_count": null,
      "outputs": [
        {
          "output_type": "display_data",
          "data": {
            "image/png": "[encoded data removed]",
            "text/plain": [
              "<Figure size 648x432 with 1 Axes>"
            ]
          },
          "metadata": {}
        }
      ]
    },
    {
      "cell_type": "markdown",
      "metadata": {
        "id": "mHqt9XVk1cku"
      },
      "source": [
        "We may need to check the t=test to see whether the means are statistiucally different before-after covid and also between energy and clean energy.\n",
        "\n",
        "We can also plot the box plots of the prices before and after covid for clean and regular energy\n"
      ]
    },
    {
      "cell_type": "markdown",
      "metadata": {
        "id": "n2RsMRUYgI6V"
      },
      "source": [
        "# Oil Prices and Treasury Rate"
      ]
    },
    {
      "cell_type": "code",
      "metadata": {
        "id": "1UxnRV_UgGTP"
      },
      "source": [
        "treasury_url = \"https://raw.githubusercontent.com/gokce-d/DS4A_Team37/master/10yr_Treasury_Rate.csv\"\n",
        "treasury_rate = pd.read_csv(treasury_url)\n",
        "\n",
        "oil_return_url = \"https://raw.githubusercontent.com/gokce-d/DS4A_Team37/master/Oil_Price_Percent_Change.csv\"\n",
        "\n",
        "oil_return = pd.read_csv(oil_return_url)"
      ],
      "execution_count": null,
      "outputs": []
    },
    {
      "cell_type": "code",
      "metadata": {
        "colab": {
          "base_uri": "https://localhost:8080/",
          "height": 204
        },
        "id": "6YOrMiq7j0UM",
        "outputId": "17865b12-de4c-4dc2-b6f0-e8347d46c150"
      },
      "source": [
        "treasury_rate.head()"
      ],
      "execution_count": null,
      "outputs": [
        {
          "output_type": "execute_result",
          "data": {
            "text/html": [
              "<div>\n",
              "<style scoped>\n",
              "    .dataframe tbody tr th:only-of-type {\n",
              "        vertical-align: middle;\n",
              "    }\n",
              "\n",
              "    .dataframe tbody tr th {\n",
              "        vertical-align: top;\n",
              "    }\n",
              "\n",
              "    .dataframe thead th {\n",
              "        text-align: right;\n",
              "    }\n",
              "</style>\n",
              "<table border=\"1\" class=\"dataframe\">\n",
              "  <thead>\n",
              "    <tr style=\"text-align: right;\">\n",
              "      <th></th>\n",
              "      <th>Date</th>\n",
              "      <th>rate</th>\n",
              "    </tr>\n",
              "  </thead>\n",
              "  <tbody>\n",
              "    <tr>\n",
              "      <th>0</th>\n",
              "      <td>1976-06-01</td>\n",
              "      <td>0.68</td>\n",
              "    </tr>\n",
              "    <tr>\n",
              "      <th>1</th>\n",
              "      <td>1976-06-02</td>\n",
              "      <td>0.71</td>\n",
              "    </tr>\n",
              "    <tr>\n",
              "      <th>2</th>\n",
              "      <td>1976-06-03</td>\n",
              "      <td>0.70</td>\n",
              "    </tr>\n",
              "    <tr>\n",
              "      <th>3</th>\n",
              "      <td>1976-06-04</td>\n",
              "      <td>0.77</td>\n",
              "    </tr>\n",
              "    <tr>\n",
              "      <th>4</th>\n",
              "      <td>1976-06-07</td>\n",
              "      <td>0.79</td>\n",
              "    </tr>\n",
              "  </tbody>\n",
              "</table>\n",
              "</div>"
            ],
            "text/plain": [
              "        Date  rate\n",
              "0 1976-06-01  0.68\n",
              "1 1976-06-02  0.71\n",
              "2 1976-06-03  0.70\n",
              "3 1976-06-04  0.77\n",
              "4 1976-06-07  0.79"
            ]
          },
          "metadata": {},
          "execution_count": 126
        }
      ]
    },
    {
      "cell_type": "code",
      "metadata": {
        "colab": {
          "base_uri": "https://localhost:8080/",
          "height": 235
        },
        "id": "1RtcFfhqgiWE",
        "outputId": "58bffa73-c109-45a5-8db1-1289c48b21fd"
      },
      "source": [
        "treasury_rate.head()\n",
        "treasury_rate = treasury_rate.rename(columns={\"DATE\": \"Date\", \"T10Y2Y\": \"rate\"})\n",
        "treasury_rate[\"Date\"] = pd.to_datetime(treasury_rate['Date'])\n",
        "treasury_rate[\"rate\"] = pd.to_numeric(treasury_rate['rate'], downcast=\"float\",errors='coerce')\n",
        "treasury_rate = treasury_rate.set_index(\"Date\") \n",
        "treasury_rate.head()"
      ],
      "execution_count": null,
      "outputs": [
        {
          "output_type": "execute_result",
          "data": {
            "text/html": [
              "<div>\n",
              "<style scoped>\n",
              "    .dataframe tbody tr th:only-of-type {\n",
              "        vertical-align: middle;\n",
              "    }\n",
              "\n",
              "    .dataframe tbody tr th {\n",
              "        vertical-align: top;\n",
              "    }\n",
              "\n",
              "    .dataframe thead th {\n",
              "        text-align: right;\n",
              "    }\n",
              "</style>\n",
              "<table border=\"1\" class=\"dataframe\">\n",
              "  <thead>\n",
              "    <tr style=\"text-align: right;\">\n",
              "      <th></th>\n",
              "      <th>rate</th>\n",
              "    </tr>\n",
              "    <tr>\n",
              "      <th>Date</th>\n",
              "      <th></th>\n",
              "    </tr>\n",
              "  </thead>\n",
              "  <tbody>\n",
              "    <tr>\n",
              "      <th>1976-06-01</th>\n",
              "      <td>0.68</td>\n",
              "    </tr>\n",
              "    <tr>\n",
              "      <th>1976-06-02</th>\n",
              "      <td>0.71</td>\n",
              "    </tr>\n",
              "    <tr>\n",
              "      <th>1976-06-03</th>\n",
              "      <td>0.70</td>\n",
              "    </tr>\n",
              "    <tr>\n",
              "      <th>1976-06-04</th>\n",
              "      <td>0.77</td>\n",
              "    </tr>\n",
              "    <tr>\n",
              "      <th>1976-06-07</th>\n",
              "      <td>0.79</td>\n",
              "    </tr>\n",
              "  </tbody>\n",
              "</table>\n",
              "</div>"
            ],
            "text/plain": [
              "            rate\n",
              "Date            \n",
              "1976-06-01  0.68\n",
              "1976-06-02  0.71\n",
              "1976-06-03  0.70\n",
              "1976-06-04  0.77\n",
              "1976-06-07  0.79"
            ]
          },
          "metadata": {},
          "execution_count": 165
        }
      ]
    },
    {
      "cell_type": "code",
      "metadata": {
        "colab": {
          "base_uri": "https://localhost:8080/",
          "height": 235
        },
        "id": "cq1oKPOth6tz",
        "outputId": "e41f7fe1-0708-4170-835e-e3e918793230"
      },
      "source": [
        "# oil_return.head()\n",
        "oil_return = oil_return.rename(columns={\"DATE\": \"Date\", \"DCOILWTICO_PCH\": \"return\"})\n",
        "oil_return[\"Date\"] = pd.to_datetime(oil_return['Date'])\n",
        "oil_return[\"return\"] = pd.to_numeric(oil_return['return'], downcast=\"float\",errors='coerce')\n",
        "oil_return = oil_return.set_index(\"Date\") \n",
        "oil_return.head()"
      ],
      "execution_count": null,
      "outputs": [
        {
          "output_type": "execute_result",
          "data": {
            "text/html": [
              "<div>\n",
              "<style scoped>\n",
              "    .dataframe tbody tr th:only-of-type {\n",
              "        vertical-align: middle;\n",
              "    }\n",
              "\n",
              "    .dataframe tbody tr th {\n",
              "        vertical-align: top;\n",
              "    }\n",
              "\n",
              "    .dataframe thead th {\n",
              "        text-align: right;\n",
              "    }\n",
              "</style>\n",
              "<table border=\"1\" class=\"dataframe\">\n",
              "  <thead>\n",
              "    <tr style=\"text-align: right;\">\n",
              "      <th></th>\n",
              "      <th>return</th>\n",
              "    </tr>\n",
              "    <tr>\n",
              "      <th>Date</th>\n",
              "      <th></th>\n",
              "    </tr>\n",
              "  </thead>\n",
              "  <tbody>\n",
              "    <tr>\n",
              "      <th>1986-01-03</th>\n",
              "      <td>1.72144</td>\n",
              "    </tr>\n",
              "    <tr>\n",
              "      <th>1986-01-06</th>\n",
              "      <td>2.03846</td>\n",
              "    </tr>\n",
              "    <tr>\n",
              "      <th>1986-01-07</th>\n",
              "      <td>-2.56314</td>\n",
              "    </tr>\n",
              "    <tr>\n",
              "      <th>1986-01-08</th>\n",
              "      <td>0.07737</td>\n",
              "    </tr>\n",
              "    <tr>\n",
              "      <th>1986-01-09</th>\n",
              "      <td>0.61848</td>\n",
              "    </tr>\n",
              "  </tbody>\n",
              "</table>\n",
              "</div>"
            ],
            "text/plain": [
              "             return\n",
              "Date               \n",
              "1986-01-03  1.72144\n",
              "1986-01-06  2.03846\n",
              "1986-01-07 -2.56314\n",
              "1986-01-08  0.07737\n",
              "1986-01-09  0.61848"
            ]
          },
          "metadata": {},
          "execution_count": 143
        }
      ]
    },
    {
      "cell_type": "code",
      "metadata": {
        "colab": {
          "base_uri": "https://localhost:8080/",
          "height": 235
        },
        "id": "LG_GxO6-gmbd",
        "outputId": "796fa037-5fd3-4975-a4a7-40b7f568e3c6"
      },
      "source": [
        "\n",
        "oil_return.head()\n"
      ],
      "execution_count": null,
      "outputs": [
        {
          "output_type": "execute_result",
          "data": {
            "text/html": [
              "<div>\n",
              "<style scoped>\n",
              "    .dataframe tbody tr th:only-of-type {\n",
              "        vertical-align: middle;\n",
              "    }\n",
              "\n",
              "    .dataframe tbody tr th {\n",
              "        vertical-align: top;\n",
              "    }\n",
              "\n",
              "    .dataframe thead th {\n",
              "        text-align: right;\n",
              "    }\n",
              "</style>\n",
              "<table border=\"1\" class=\"dataframe\">\n",
              "  <thead>\n",
              "    <tr style=\"text-align: right;\">\n",
              "      <th></th>\n",
              "      <th>return</th>\n",
              "    </tr>\n",
              "    <tr>\n",
              "      <th>Date</th>\n",
              "      <th></th>\n",
              "    </tr>\n",
              "  </thead>\n",
              "  <tbody>\n",
              "    <tr>\n",
              "      <th>1986-01-03</th>\n",
              "      <td>1.72144</td>\n",
              "    </tr>\n",
              "    <tr>\n",
              "      <th>1986-01-06</th>\n",
              "      <td>2.03846</td>\n",
              "    </tr>\n",
              "    <tr>\n",
              "      <th>1986-01-07</th>\n",
              "      <td>-2.56314</td>\n",
              "    </tr>\n",
              "    <tr>\n",
              "      <th>1986-01-08</th>\n",
              "      <td>0.07737</td>\n",
              "    </tr>\n",
              "    <tr>\n",
              "      <th>1986-01-09</th>\n",
              "      <td>0.61848</td>\n",
              "    </tr>\n",
              "  </tbody>\n",
              "</table>\n",
              "</div>"
            ],
            "text/plain": [
              "              return\n",
              "Date                \n",
              "1986-01-03   1.72144\n",
              "1986-01-06   2.03846\n",
              "1986-01-07  -2.56314\n",
              "1986-01-08   0.07737\n",
              "1986-01-09   0.61848"
            ]
          },
          "metadata": {},
          "execution_count": 138
        }
      ]
    },
    {
      "cell_type": "code",
      "metadata": {
        "id": "tu8EmNfdqjZv",
        "colab": {
          "base_uri": "https://localhost:8080/"
        },
        "outputId": "78fdc24e-dd23-4515-da1d-b5dbda11e31d"
      },
      "source": [
        "500/12000"
      ],
      "execution_count": null,
      "outputs": [
        {
          "output_type": "execute_result",
          "data": {
            "text/plain": [
              "0.041666666666666664"
            ]
          },
          "metadata": {},
          "execution_count": 167
        }
      ]
    },
    {
      "cell_type": "code",
      "metadata": {
        "colab": {
          "base_uri": "https://localhost:8080/"
        },
        "id": "gAaVGGrGqJ4I",
        "outputId": "6117f82d-7c75-4bff-b231-ac058570b43b"
      },
      "source": [
        "np.sum(treasury_rate.isnull())"
      ],
      "execution_count": null,
      "outputs": [
        {
          "output_type": "execute_result",
          "data": {
            "text/plain": [
              "rate    496\n",
              "dtype: int64"
            ]
          },
          "metadata": {},
          "execution_count": 166
        }
      ]
    },
    {
      "cell_type": "code",
      "metadata": {
        "id": "O2QBS6QFpI5O"
      },
      "source": [
        "# generate preview of entries with null values\n",
        "if treasury_rate.isnull().any(axis=None):\n",
        "    print(\"\\nPreview of data with null values:\\nxxxxxxxxxxxxx\")\n",
        "    print(treasury_rate[treasury_rate.isnull().any(axis=1)])"
      ],
      "execution_count": null,
      "outputs": []
    },
    {
      "cell_type": "code",
      "metadata": {
        "colab": {
          "base_uri": "https://localhost:8080/",
          "height": 301
        },
        "id": "Kn8an8G7ivGt",
        "outputId": "7fc58b6d-502f-4b45-c14c-3dbd89eb1963"
      },
      "source": [
        "sns.set(rc={'figure.figsize':(14, 4)})\n",
        "sns.set_theme(style=\"whitegrid\")\n",
        "treasury_rate['rate'].plot(linewidth=0.7, color = \"orange\", label=\"10 yr Treasury Rate\")\n",
        "plt.title(\"10 year Treasury Rate\")\n",
        "plt.legend()\n",
        "plt.savefig('treasury_rate.jpg');"
      ],
      "execution_count": null,
      "outputs": [
        {
          "output_type": "display_data",
          "data": {
            "image/png": "[encoded data removed]",
            "text/plain": [
              "<Figure size 1008x288 with 1 Axes>"
            ]
          },
          "metadata": {}
        }
      ]
    },
    {
      "cell_type": "code",
      "metadata": {
        "colab": {
          "base_uri": "https://localhost:8080/",
          "height": 301
        },
        "id": "dZ0tvfmxkpqr",
        "outputId": "8c21e8e4-195f-4f62-e863-430b1b33ed15"
      },
      "source": [
        "sns.set(rc={'figure.figsize':(14, 4)})\n",
        "sns.set_theme(style=\"whitegrid\")\n",
        "oil_return['return'].plot(linewidth=0.7, color = \"magenta\", label=\"Oil Return\")\n",
        "plt.title(\"Oil Percentage Return\")\n",
        "plt.legend()\n",
        "plt.savefig('oil_return.jpg');"
      ],
      "execution_count": null,
      "outputs": [
        {
          "output_type": "display_data",
          "data": {
            "image/png": "[encoded data removed]",
            "text/plain": [
              "<Figure size 1008x288 with 1 Axes>"
            ]
          },
          "metadata": {}
        }
      ]
    },
    {
      "cell_type": "code",
      "metadata": {
        "colab": {
          "base_uri": "https://localhost:8080/",
          "height": 301
        },
        "id": "JHjpJHJ0m9oG",
        "outputId": "7b467325-f802-4852-f205-28baa287d3b0"
      },
      "source": [
        "sns.set(rc={'figure.figsize':(14, 4)})\n",
        "sns.set_theme(style=\"whitegrid\")\n",
        "oil_return['return'].plot(linewidth=0.7, color = \"magenta\", label=\"Oil Return\")\n",
        "plt.title(\"Oil Percentage Return (Zoom In)\")\n",
        "plt.ylim(-30,30)\n",
        "plt.legend()\n",
        "plt.savefig('oil_return_focused.jpg');"
      ],
      "execution_count": null,
      "outputs": [
        {
          "output_type": "display_data",
          "data": {
            "image/png": "[encoded data removed]",
            "text/plain": [
              "<Figure size 1008x288 with 1 Axes>"
            ]
          },
          "metadata": {}
        }
      ]
    },
    {
      "cell_type": "markdown",
      "metadata": {
        "id": "eIszE7j_1XbV"
      },
      "source": [
        "# Statistical Analysis\n",
        "\n",
        "This is for the final draft, first draft only requires exploratory data analysis."
      ]
    },
    {
      "cell_type": "markdown",
      "metadata": {
        "id": "xRy5bMWJK4n0"
      },
      "source": [
        "## Time Series Analysis: Proposing ARIMA Model"
      ]
    },
    {
      "cell_type": "code",
      "metadata": {
        "id": "MMLkId915u95"
      },
      "source": [
        "autocorrelation_plot(energy_index[])"
      ],
      "execution_count": null,
      "outputs": []
    }
  ]
}