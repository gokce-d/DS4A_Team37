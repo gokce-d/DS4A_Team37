{
  "nbformat": 4,
  "nbformat_minor": 0,
  "metadata": {
    "colab": {
      "name": "DS4A_ARIMA.ipynb",
      "provenance": [],
      "toc_visible": true,
      "authorship_tag": "ABX9TyOok7H7aZmLbZkjRqej7Eli",
      "include_colab_link": true
    },
    "kernelspec": {
      "name": "python3",
      "display_name": "Python 3"
    },
    "language_info": {
      "name": "python"
    }
  },
  "cells": [
    {
      "cell_type": "markdown",
      "metadata": {
        "id": "view-in-github",
        "colab_type": "text"
      },
      "source": [
        "<a href=\"https://colab.research.google.com/github/gokce-d/DS4A_Team37/blob/ARIMA/DS4A_ARIMA.ipynb\" target=\"_parent\"><img src=\"https://colab.research.google.com/assets/colab-badge.svg\" alt=\"Open In Colab\"/></a>"
      ]
    },
    {
      "cell_type": "markdown",
      "metadata": {
        "id": "yng7qKEfFeVT"
      },
      "source": [
        "# ARIMA Analysis for the Indices\n",
        "## Energy Index\n",
        "\n"
      ]
    },
    {
      "cell_type": "code",
      "metadata": {
        "id": "s4pS27MrLc5-"
      },
      "source": [
        "import numpy as np\n",
        "import pandas as pd\n",
        "import matplotlib \n",
        "import matplotlib.pyplot as plt\n",
        "import seaborn as sns"
      ],
      "execution_count": 2,
      "outputs": []
    },
    {
      "cell_type": "code",
      "metadata": {
        "colab": {
          "base_uri": "https://localhost:8080/",
          "height": 204
        },
        "id": "dEdEeERTLfXf",
        "outputId": "c6805e59-71d0-4da5-f1f2-3fb9a016c5b1"
      },
      "source": [
        "energy_url = \"https://raw.githubusercontent.com/gokce-d/DS4A_Team37/master/Energy_Index.csv\"\n",
        "energy_index = pd.read_csv(energy_url)\n",
        "energy_index.tail()"
      ],
      "execution_count": 3,
      "outputs": [
        {
          "output_type": "execute_result",
          "data": {
            "text/html": [
              "<div>\n",
              "<style scoped>\n",
              "    .dataframe tbody tr th:only-of-type {\n",
              "        vertical-align: middle;\n",
              "    }\n",
              "\n",
              "    .dataframe tbody tr th {\n",
              "        vertical-align: top;\n",
              "    }\n",
              "\n",
              "    .dataframe thead th {\n",
              "        text-align: right;\n",
              "    }\n",
              "</style>\n",
              "<table border=\"1\" class=\"dataframe\">\n",
              "  <thead>\n",
              "    <tr style=\"text-align: right;\">\n",
              "      <th></th>\n",
              "      <th>Effective date</th>\n",
              "      <th>S&amp;P 500 Energy (Sector)</th>\n",
              "    </tr>\n",
              "  </thead>\n",
              "  <tbody>\n",
              "    <tr>\n",
              "      <th>2529</th>\n",
              "      <td>9/20/2021</td>\n",
              "      <td>358.00</td>\n",
              "    </tr>\n",
              "    <tr>\n",
              "      <th>2530</th>\n",
              "      <td>9/21/2021</td>\n",
              "      <td>359.34</td>\n",
              "    </tr>\n",
              "    <tr>\n",
              "      <th>2531</th>\n",
              "      <td>9/22/2021</td>\n",
              "      <td>370.71</td>\n",
              "    </tr>\n",
              "    <tr>\n",
              "      <th>2532</th>\n",
              "      <td>9/23/2021</td>\n",
              "      <td>383.35</td>\n",
              "    </tr>\n",
              "    <tr>\n",
              "      <th>2533</th>\n",
              "      <td>9/24/2021</td>\n",
              "      <td>386.57</td>\n",
              "    </tr>\n",
              "  </tbody>\n",
              "</table>\n",
              "</div>"
            ],
            "text/plain": [
              "     Effective date   S&P 500 Energy (Sector)\n",
              "2529       9/20/2021                   358.00\n",
              "2530       9/21/2021                   359.34\n",
              "2531       9/22/2021                   370.71\n",
              "2532       9/23/2021                   383.35\n",
              "2533       9/24/2021                   386.57"
            ]
          },
          "metadata": {},
          "execution_count": 3
        }
      ]
    },
    {
      "cell_type": "code",
      "metadata": {
        "id": "i3eJj-ppMl6L"
      },
      "source": [
        ""
      ],
      "execution_count": null,
      "outputs": []
    }
  ]
}