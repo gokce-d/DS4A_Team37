{
  "nbformat": 4,
  "nbformat_minor": 0,
  "metadata": {
    "colab": {
      "name": "DS4A_ARIMA.ipynb",
      "provenance": [],
      "authorship_tag": "ABX9TyPsDzcrGEo2pulsRIUNOrqA",
      "include_colab_link": true
    },
    "kernelspec": {
      "name": "python3",
      "display_name": "Python 3"
    },
    "language_info": {
      "name": "python"
    }
  },
  "cells": [
    {
      "cell_type": "markdown",
      "metadata": {
        "id": "view-in-github",
        "colab_type": "text"
      },
      "source": [

      ]
    },
    {
      "cell_type": "code",
      "metadata": {
        "id": "yng7qKEfFeVT"
      },
      "source": [
        ""
      ],
      "execution_count": null,
      "outputs": []
    }
  ]
}